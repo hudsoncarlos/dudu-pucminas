{
 "cells": [
  {
   "cell_type": "code",
   "execution_count": 1,
   "id": "c9abcac0",
   "metadata": {},
   "outputs": [],
   "source": [
    "x = 5 * 2"
   ]
  },
  {
   "cell_type": "code",
   "execution_count": 2,
   "id": "a3765087",
   "metadata": {},
   "outputs": [
    {
     "data": {
      "text/plain": [
       "10"
      ]
     },
     "execution_count": 2,
     "metadata": {},
     "output_type": "execute_result"
    }
   ],
   "source": [
    "x"
   ]
  },
  {
   "cell_type": "markdown",
   "id": "f571d7db",
   "metadata": {},
   "source": [
    "# Conversões para string"
   ]
  },
  {
   "cell_type": "code",
   "execution_count": 1,
   "id": "0741b678",
   "metadata": {},
   "outputs": [],
   "source": [
    "bool_string = str(True)"
   ]
  },
  {
   "cell_type": "code",
   "execution_count": 2,
   "id": "37a16b36",
   "metadata": {},
   "outputs": [
    {
     "data": {
      "text/plain": [
       "'True'"
      ]
     },
     "execution_count": 2,
     "metadata": {},
     "output_type": "execute_result"
    }
   ],
   "source": [
    "bool_string"
   ]
  },
  {
   "cell_type": "code",
   "execution_count": 3,
   "id": "837c75f9",
   "metadata": {},
   "outputs": [],
   "source": [
    "bool_string2 = str(False)"
   ]
  },
  {
   "cell_type": "code",
   "execution_count": 7,
   "id": "5fe08cda",
   "metadata": {},
   "outputs": [
    {
     "data": {
      "text/plain": [
       "'False'"
      ]
     },
     "execution_count": 7,
     "metadata": {},
     "output_type": "execute_result"
    }
   ],
   "source": [
    "bool_string2"
   ]
  },
  {
   "cell_type": "code",
   "execution_count": 20,
   "id": "250c2278",
   "metadata": {},
   "outputs": [],
   "source": [
    "num = 5\n"
   ]
  },
  {
   "cell_type": "code",
   "execution_count": 10,
   "id": "a3ac9ad2",
   "metadata": {},
   "outputs": [
    {
     "ename": "SyntaxError",
     "evalue": "invalid syntax (1261371575.py, line 1)",
     "output_type": "error",
     "traceback": [
      "\u001b[1;36m  Input \u001b[1;32mIn [10]\u001b[1;36m\u001b[0m\n\u001b[1;33m    num--\u001b[0m\n\u001b[1;37m         ^\u001b[0m\n\u001b[1;31mSyntaxError\u001b[0m\u001b[1;31m:\u001b[0m invalid syntax\n"
     ]
    }
   ],
   "source": [
    "num--\n",
    "num"
   ]
  },
  {
   "cell_type": "code",
   "execution_count": 14,
   "id": "b72e8751",
   "metadata": {},
   "outputs": [
    {
     "data": {
      "text/plain": [
       "4"
      ]
     },
     "execution_count": 14,
     "metadata": {},
     "output_type": "execute_result"
    }
   ],
   "source": [
    "num = num -1\n",
    "num"
   ]
  },
  {
   "cell_type": "code",
   "execution_count": 16,
   "id": "6eafa554",
   "metadata": {},
   "outputs": [
    {
     "data": {
      "text/plain": [
       "4"
      ]
     },
     "execution_count": 16,
     "metadata": {},
     "output_type": "execute_result"
    }
   ],
   "source": [
    "num -= 1\n",
    "num"
   ]
  },
  {
   "cell_type": "code",
   "execution_count": 18,
   "id": "5fe5589b",
   "metadata": {},
   "outputs": [
    {
     "data": {
      "text/plain": [
       "4"
      ]
     },
     "execution_count": 18,
     "metadata": {},
     "output_type": "execute_result"
    }
   ],
   "source": [
    "num = -1 + num\n",
    "num"
   ]
  },
  {
   "cell_type": "code",
   "execution_count": 21,
   "id": "99015865",
   "metadata": {},
   "outputs": [
    {
     "data": {
      "text/plain": [
       "4"
      ]
     },
     "execution_count": 21,
     "metadata": {},
     "output_type": "execute_result"
    }
   ],
   "source": [
    "num -1"
   ]
  },
  {
   "cell_type": "code",
   "execution_count": 32,
   "id": "3a376e8e",
   "metadata": {},
   "outputs": [
    {
     "data": {
      "text/plain": [
       "'João'"
      ]
     },
     "execution_count": 32,
     "metadata": {},
     "output_type": "execute_result"
    }
   ],
   "source": [
    "# nome = \"João\"\n",
    "# nome = 'João'\n",
    "# nome = (João)\n",
    "# nome = \"Jo\"+'ão'\n",
    "nome = \"João\"*1\n",
    "nome"
   ]
  },
  {
   "cell_type": "code",
   "execution_count": 39,
   "id": "d984a0a2",
   "metadata": {},
   "outputs": [
    {
     "data": {
      "text/plain": [
       "str"
      ]
     },
     "execution_count": 39,
     "metadata": {},
     "output_type": "execute_result"
    }
   ],
   "source": [
    "x = \"Hudson\"\n",
    "# typeof(x)\n",
    "# istype(x)\n",
    "type(x)\n",
    "# type(x, int)"
   ]
  },
  {
   "cell_type": "code",
   "execution_count": 40,
   "id": "e1adf142",
   "metadata": {},
   "outputs": [
    {
     "name": "stdout",
     "output_type": "stream",
     "text": [
      "João\n",
      "nome\n"
     ]
    }
   ],
   "source": [
    "#No answer text provided.\n",
    "print(nome)\n",
    "print(\"nome\")"
   ]
  },
  {
   "cell_type": "code",
   "execution_count": 41,
   "id": "a0c455a4",
   "metadata": {},
   "outputs": [
    {
     "name": "stdout",
     "output_type": "stream",
     "text": [
      "1.0\n"
     ]
    }
   ],
   "source": [
    "print(1/2 + 1.0/2)\n",
    "print(1/2 + 1.0/2)"
   ]
  },
  {
   "cell_type": "code",
   "execution_count": 53,
   "id": "e02408f9",
   "metadata": {},
   "outputs": [
    {
     "data": {
      "text/plain": [
       "6"
      ]
     },
     "execution_count": 53,
     "metadata": {},
     "output_type": "execute_result"
    }
   ],
   "source": [
    "nome = \"Hudson\"\n",
    "#sizeof(nome)\n",
    "#length(nome)\n",
    "len(nome)\n",
    "#Len(nome)\n",
    "#Length(nome)"
   ]
  },
  {
   "cell_type": "code",
   "execution_count": 59,
   "id": "d871bd43",
   "metadata": {},
   "outputs": [
    {
     "name": "stdout",
     "output_type": "stream",
     "text": [
      "Hudson2\n",
      "Hudson1\n"
     ]
    }
   ],
   "source": [
    "nome = \"Hudson2\"\n",
    "Nome = \"Hudson1\"\n",
    "\n",
    "print(nome)\n",
    "print(Nome)\n"
   ]
  },
  {
   "cell_type": "code",
   "execution_count": null,
   "id": "11f8ad8c",
   "metadata": {},
   "outputs": [],
   "source": []
  }
 ],
 "metadata": {
  "kernelspec": {
   "display_name": "Python 3 (ipykernel)",
   "language": "python",
   "name": "python3"
  },
  "language_info": {
   "codemirror_mode": {
    "name": "ipython",
    "version": 3
   },
   "file_extension": ".py",
   "mimetype": "text/x-python",
   "name": "python",
   "nbconvert_exporter": "python",
   "pygments_lexer": "ipython3",
   "version": "3.9.12"
  }
 },
 "nbformat": 4,
 "nbformat_minor": 5
}
