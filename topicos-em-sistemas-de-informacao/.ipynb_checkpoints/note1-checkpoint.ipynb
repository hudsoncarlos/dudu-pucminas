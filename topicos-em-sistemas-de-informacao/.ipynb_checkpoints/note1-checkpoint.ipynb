{
 "cells": [
  {
   "cell_type": "code",
   "execution_count": 1,
   "id": "c9abcac0",
   "metadata": {},
   "outputs": [],
   "source": [
    "x = 5 * 2"
   ]
  },
  {
   "cell_type": "code",
   "execution_count": 2,
   "id": "a3765087",
   "metadata": {},
   "outputs": [
    {
     "data": {
      "text/plain": [
       "10"
      ]
     },
     "execution_count": 2,
     "metadata": {},
     "output_type": "execute_result"
    }
   ],
   "source": [
    "x"
   ]
  },
  {
   "cell_type": "markdown",
   "id": "f571d7db",
   "metadata": {},
   "source": [
    "# Conversões para string"
   ]
  },
  {
   "cell_type": "code",
   "execution_count": 4,
   "id": "0741b678",
   "metadata": {},
   "outputs": [],
   "source": [
    "bool_string = str(True)"
   ]
  },
  {
   "cell_type": "code",
   "execution_count": 5,
   "id": "37a16b36",
   "metadata": {},
   "outputs": [
    {
     "data": {
      "text/plain": [
       "'True'"
      ]
     },
     "execution_count": 5,
     "metadata": {},
     "output_type": "execute_result"
    }
   ],
   "source": [
    "bool_string"
   ]
  },
  {
   "cell_type": "code",
   "execution_count": 6,
   "id": "837c75f9",
   "metadata": {},
   "outputs": [],
   "source": [
    "bool_string2 = str(False)"
   ]
  },
  {
   "cell_type": "code",
   "execution_count": 7,
   "id": "5fe08cda",
   "metadata": {},
   "outputs": [
    {
     "data": {
      "text/plain": [
       "'False'"
      ]
     },
     "execution_count": 7,
     "metadata": {},
     "output_type": "execute_result"
    }
   ],
   "source": [
    "bool_string2"
   ]
  },
  {
   "cell_type": "code",
   "execution_count": null,
   "id": "250c2278",
   "metadata": {},
   "outputs": [],
   "source": []
  },
  {
   "cell_type": "code",
   "execution_count": null,
   "id": "a3ac9ad2",
   "metadata": {},
   "outputs": [],
   "source": []
  }
 ],
 "metadata": {
  "kernelspec": {
   "display_name": "Python 3 (ipykernel)",
   "language": "python",
   "name": "python3"
  },
  "language_info": {
   "codemirror_mode": {
    "name": "ipython",
    "version": 3
   },
   "file_extension": ".py",
   "mimetype": "text/x-python",
   "name": "python",
   "nbconvert_exporter": "python",
   "pygments_lexer": "ipython3",
   "version": "3.9.12"
  }
 },
 "nbformat": 4,
 "nbformat_minor": 5
}
