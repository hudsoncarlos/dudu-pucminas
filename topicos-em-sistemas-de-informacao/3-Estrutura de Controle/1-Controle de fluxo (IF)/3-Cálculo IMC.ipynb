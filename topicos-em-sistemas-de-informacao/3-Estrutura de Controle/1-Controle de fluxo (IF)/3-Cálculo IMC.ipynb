{
 "cells": [
  {
   "cell_type": "markdown",
   "metadata": {},
   "source": [
    "# <font color='#045FB4'>Cálculo do IMC - Índice de Massa Corporal</font>\n",
    "\n",
    "O IMC é calculado através da equação $ IMC = \\frac{peso}{altura^2} $.\n",
    "\n",
    "Após o cálculo do índice, podemos verificar a situação da pessoa através da tabela abaixo.\n",
    "\n",
    "|         IMC        |         Situação        |\n",
    "|:------------------:|:-----------------------:|\n",
    "| Abaixo de 20       | Abaixo do peso          |\n",
    "| Entre 20 e 24,99   | Peso normal             |\n",
    "| Acima de 25        | Acima do peso           |\n"
   ]
  },
  {
   "cell_type": "code",
   "execution_count": 1,
   "metadata": {
    "collapsed": true
   },
   "outputs": [
    {
     "ename": "ValueError",
     "evalue": "could not convert string to float: ''",
     "output_type": "error",
     "traceback": [
      "\u001b[1;31m---------------------------------------------------------------------------\u001b[0m",
      "\u001b[1;31mValueError\u001b[0m                                Traceback (most recent call last)",
      "Input \u001b[1;32mIn [1]\u001b[0m, in \u001b[0;36m<cell line: 1>\u001b[1;34m()\u001b[0m\n\u001b[1;32m----> 1\u001b[0m peso \u001b[38;5;241m=\u001b[39m \u001b[38;5;28;43mfloat\u001b[39;49m\u001b[43m(\u001b[49m\u001b[38;5;28;43minput\u001b[39;49m\u001b[43m(\u001b[49m\u001b[38;5;124;43m\"\u001b[39;49m\u001b[38;5;124;43mDigite seu peso: \u001b[39;49m\u001b[38;5;124;43m\"\u001b[39;49m\u001b[43m)\u001b[49m\u001b[43m)\u001b[49m\n\u001b[0;32m      2\u001b[0m altura \u001b[38;5;241m=\u001b[39m \u001b[38;5;28mfloat\u001b[39m(\u001b[38;5;28minput\u001b[39m(\u001b[38;5;124m\"\u001b[39m\u001b[38;5;124mDigite sua altura: \u001b[39m\u001b[38;5;124m\"\u001b[39m))\n\u001b[0;32m      3\u001b[0m imc \u001b[38;5;241m=\u001b[39m peso \u001b[38;5;241m/\u001b[39m altura \u001b[38;5;241m*\u001b[39m\u001b[38;5;241m*\u001b[39m \u001b[38;5;241m2\u001b[39m\n",
      "\u001b[1;31mValueError\u001b[0m: could not convert string to float: ''"
     ]
    }
   ],
   "source": [
    "peso = float(input(\"Digite seu peso: \"))\n",
    "altura = float(input(\"Digite sua altura: \"))\n",
    "imc = peso / altura ** 2\n",
    "if imc < 20:\n",
    "    print(\"Seu peso está abaixo do ideal. Seu IMC = {}.\".format(imc))\n",
    "else:\n",
    "    if imc >= 20 and imc<=25:\n",
    "        print(\"Seu peso está dentro da faixa ideal. Seu IMC = {}.\".format(imc))\n",
    "    else:\n",
    "        print(\"Seu peso está acima do ideal. Seu IMC = {}.\".format(imc))"
   ]
  },
  {
   "cell_type": "code",
   "execution_count": null,
   "metadata": {
    "collapsed": true
   },
   "outputs": [],
   "source": []
  }
 ],
 "metadata": {
  "kernelspec": {
   "display_name": "Python 3",
   "language": "python",
   "name": "python3"
  },
  "language_info": {
   "codemirror_mode": {
    "name": "ipython",
    "version": 3
   },
   "file_extension": ".py",
   "mimetype": "text/x-python",
   "name": "python",
   "nbconvert_exporter": "python",
   "pygments_lexer": "ipython3",
   "version": "3.9.12"
  }
 },
 "nbformat": 4,
 "nbformat_minor": 2
}
