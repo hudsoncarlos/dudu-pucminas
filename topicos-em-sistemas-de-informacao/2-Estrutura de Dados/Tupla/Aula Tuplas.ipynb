{
 "cells": [
  {
   "cell_type": "markdown",
   "metadata": {},
   "source": [
    "# Tuplas\n",
    "\n",
    "* Assim com uma lista, uma tupla também é uma coleção de elementos. A diferença entre elas, é que a tupla é imutável. Ou seja, uma vez definidos os seus elementos, a tupla não pode mais ser alterada\n",
    "* Cada elemento possui uma posição dentro de uma lista. Essa posição é chamada índice\n",
    "* O primeiro elemento fica armazenado na posição *0*, enquanto o último elemento fica armazenado na posição *n-1* (onde *n* é a quantidade de elementos da lista)\n",
    "\n",
    "O que veremos nessa aula:\n",
    "\n",
    "1. Como criar uma tupla\n",
    "2. Como acessar elementos de uma tupla\n",
    "3. A imutabilidade de uma tupla\n",
    "4. Principais métodos de um objeto tupla\n",
    "5. Funções aplicáveis a uma tupla\n",
    "6. Convertendo uma tupla em lista"
   ]
  },
  {
   "cell_type": "markdown",
   "metadata": {},
   "source": [
    "### 1. Como criar uma tupla"
   ]
  },
  {
   "cell_type": "code",
   "execution_count": 1,
   "metadata": {
    "collapsed": true
   },
   "outputs": [],
   "source": [
    "# Criando tuplas vazias\n",
    "tupla_vazia = ()\n",
    "tupla_vazia2 = tuple()"
   ]
  },
  {
   "cell_type": "code",
   "execution_count": 2,
   "metadata": {
    "collapsed": true
   },
   "outputs": [
    {
     "data": {
      "text/plain": [
       "tuple"
      ]
     },
     "execution_count": 2,
     "metadata": {},
     "output_type": "execute_result"
    }
   ],
   "source": [
    "# Verificando o tipo de tupla_vazia\n",
    "type(tupla_vazia)"
   ]
  },
  {
   "cell_type": "code",
   "execution_count": 3,
   "metadata": {
    "collapsed": true
   },
   "outputs": [
    {
     "data": {
      "text/plain": [
       "True"
      ]
     },
     "execution_count": 3,
     "metadata": {},
     "output_type": "execute_result"
    }
   ],
   "source": [
    "# Verificando se tupla_vazia2 é uma instância de tuple\n",
    "isinstance(tupla_vazia2, tuple)"
   ]
  },
  {
   "cell_type": "code",
   "execution_count": 4,
   "metadata": {
    "collapsed": true
   },
   "outputs": [
    {
     "data": {
      "text/plain": [
       "0"
      ]
     },
     "execution_count": 4,
     "metadata": {},
     "output_type": "execute_result"
    }
   ],
   "source": [
    "len(tupla_vazia)"
   ]
  },
  {
   "cell_type": "code",
   "execution_count": 4,
   "metadata": {
    "collapsed": true
   },
   "outputs": [],
   "source": [
    "# Criando tuplas com elementos\n",
    "tupla1 = (3, 19, 4, 21, 3, 5, 13)\n",
    "tupla2 = (3, 19, 4, 21, 3, 5, 13, \"tupla\", (1, 2, 3))\n",
    "tupla3 = (3, 19, 4, 21, 3, 5, 13, \"tupla\", [1, 2, 3])"
   ]
  },
  {
   "cell_type": "code",
   "execution_count": 5,
   "metadata": {
    "collapsed": true
   },
   "outputs": [
    {
     "data": {
      "text/plain": [
       "(3, 19, 4, 21, 3, 5, 13)"
      ]
     },
     "execution_count": 5,
     "metadata": {},
     "output_type": "execute_result"
    }
   ],
   "source": [
    "# Visualizando os elementos de tupla1\n",
    "tupla1"
   ]
  },
  {
   "cell_type": "code",
   "execution_count": null,
   "metadata": {
    "collapsed": true
   },
   "outputs": [],
   "source": [
    "# Visualizando os elementos de tupla2\n",
    "tupla2"
   ]
  },
  {
   "cell_type": "code",
   "execution_count": null,
   "metadata": {
    "collapsed": true
   },
   "outputs": [],
   "source": [
    "# Visualizando os elementos de tupla3\n",
    "tupla3"
   ]
  },
  {
   "cell_type": "markdown",
   "metadata": {},
   "source": [
    "### 2. Como acessar elementos de uma tupla"
   ]
  },
  {
   "cell_type": "code",
   "execution_count": null,
   "metadata": {
    "collapsed": true
   },
   "outputs": [],
   "source": [
    "# Acessando o índice 0 (primeira posição) de tupla1\n",
    "tupla1[0]"
   ]
  },
  {
   "cell_type": "code",
   "execution_count": null,
   "metadata": {
    "collapsed": true
   },
   "outputs": [],
   "source": [
    "# Visualizando os elementos de tupla1\n",
    "tupla1"
   ]
  },
  {
   "cell_type": "code",
   "execution_count": null,
   "metadata": {
    "collapsed": true
   },
   "outputs": [],
   "source": [
    "# Acessando o índice 5 (sexta posição) de tupla2\n",
    "tupla2[5]"
   ]
  },
  {
   "cell_type": "code",
   "execution_count": null,
   "metadata": {
    "collapsed": true
   },
   "outputs": [],
   "source": [
    "# Visualizando os elementos de tupla2\n",
    "tupla2"
   ]
  },
  {
   "cell_type": "code",
   "execution_count": null,
   "metadata": {
    "collapsed": true
   },
   "outputs": [],
   "source": [
    "# Acessando o índice 8 (nona posição) de tupla3\n",
    "tupla3[8]"
   ]
  },
  {
   "cell_type": "code",
   "execution_count": null,
   "metadata": {
    "collapsed": true
   },
   "outputs": [],
   "source": [
    "# Visualizando os elementos de tupla3\n",
    "tupla3"
   ]
  },
  {
   "cell_type": "code",
   "execution_count": null,
   "metadata": {
    "collapsed": true
   },
   "outputs": [],
   "source": [
    "# Tentando acesso a um índice inexistente\n",
    "tupla3[20]"
   ]
  },
  {
   "cell_type": "markdown",
   "metadata": {},
   "source": [
    "### 3. A imutabilidade de uma tupla"
   ]
  },
  {
   "cell_type": "code",
   "execution_count": null,
   "metadata": {
    "collapsed": true
   },
   "outputs": [],
   "source": [
    "# Atribuindo o valor 5 ao índice 0 de tupla1 provocará um erro\n",
    "tupla1[0] = 5"
   ]
  },
  {
   "cell_type": "code",
   "execution_count": null,
   "metadata": {
    "collapsed": true
   },
   "outputs": [],
   "source": [
    "# O mesmo ocorre se tentarmos atribuir o string \"imutável\" para o índice 1 de tupla2 \n",
    "tupla2[1] = \"imutável\""
   ]
  },
  {
   "cell_type": "code",
   "execution_count": null,
   "metadata": {
    "collapsed": true
   },
   "outputs": [],
   "source": [
    "# O índice 8 de tupla2 contém uma outra tupla contendo 3 valores (1, 2, 3).\n",
    "# Tentar atribuir 5 ao índice 1 dessa tupla interna, provocará um erro de execução\n",
    "tupla2[8][1] = 5"
   ]
  },
  {
   "cell_type": "code",
   "execution_count": null,
   "metadata": {
    "collapsed": true
   },
   "outputs": [],
   "source": [
    "# O mesmo não ocorre ao tentar atribuir 5 ao índice 1, da lista armazenada no índice 8. \n",
    "# O motivo é que a tupla não está sendo alterada. O índice 8 continua contendo uma lista. \n",
    "# Essa lista, por sua vez, é que teve um de seus valores alterados\n",
    "tupla3[8][1] = 5"
   ]
  },
  {
   "cell_type": "code",
   "execution_count": null,
   "metadata": {
    "collapsed": true
   },
   "outputs": [],
   "source": [
    "# Podemos adicionar elementos à lista armazenada no índice 8 da tupla\n",
    "tupla3[8].extend([4, 5, 6])"
   ]
  },
  {
   "cell_type": "code",
   "execution_count": null,
   "metadata": {
    "collapsed": true
   },
   "outputs": [],
   "source": [
    "tupla3"
   ]
  },
  {
   "cell_type": "code",
   "execution_count": null,
   "metadata": {
    "collapsed": true
   },
   "outputs": [],
   "source": [
    "# Entretanto, matendo a característica de imutabilidade, não podemos substituir a lista do índice 8 por outra\n",
    "tupla3[8] = [-1, -2, -3]"
   ]
  },
  {
   "cell_type": "markdown",
   "metadata": {},
   "source": [
    "### 4. Principais métodos de um objeto tupla"
   ]
  },
  {
   "cell_type": "code",
   "execution_count": null,
   "metadata": {
    "collapsed": true
   },
   "outputs": [],
   "source": [
    "# Verificando quantas vezes o número 3 aparece em tupla1\n",
    "tupla1.count(3)"
   ]
  },
  {
   "cell_type": "code",
   "execution_count": null,
   "metadata": {
    "collapsed": true
   },
   "outputs": [],
   "source": [
    "tupla1"
   ]
  },
  {
   "cell_type": "code",
   "execution_count": null,
   "metadata": {
    "collapsed": true
   },
   "outputs": [],
   "source": [
    "# Verificando em que posição está armazenado o elemento 21\n",
    "tupla1.index(21)"
   ]
  },
  {
   "cell_type": "markdown",
   "metadata": {},
   "source": [
    "### 5. Funções aplicáveis a uma tupla"
   ]
  },
  {
   "cell_type": "code",
   "execution_count": null,
   "metadata": {
    "collapsed": true
   },
   "outputs": [],
   "source": [
    "len(tupla1)"
   ]
  },
  {
   "cell_type": "code",
   "execution_count": null,
   "metadata": {
    "collapsed": true
   },
   "outputs": [],
   "source": [
    "max(tupla1)"
   ]
  },
  {
   "cell_type": "code",
   "execution_count": null,
   "metadata": {
    "collapsed": true
   },
   "outputs": [],
   "source": [
    "min(tupla1)"
   ]
  },
  {
   "cell_type": "code",
   "execution_count": null,
   "metadata": {
    "collapsed": true
   },
   "outputs": [],
   "source": [
    "sum(tupla1)"
   ]
  },
  {
   "cell_type": "markdown",
   "metadata": {},
   "source": [
    "### 6. Convertendo uma tupla em lista"
   ]
  },
  {
   "cell_type": "markdown",
   "metadata": {},
   "source": [
    "### 7. Testes Atividade Lista 2"
   ]
  },
  {
   "cell_type": "code",
   "execution_count": 10,
   "metadata": {},
   "outputs": [
    {
     "name": "stdout",
     "output_type": "stream",
     "text": [
      "[9, 2, 5, 7, [12, 15, 18]]\n"
     ]
    }
   ],
   "source": [
    "A = [9, 2, 5, 7]\n",
    "B = [x for x in range(12,21,3)]\n",
    "A.append(B)\n",
    "print(A)"
   ]
  },
  {
   "cell_type": "code",
   "execution_count": 14,
   "metadata": {},
   "outputs": [],
   "source": [
    "set1 = {1, 2, 3}\n",
    "\n",
    "set2 = {}"
   ]
  },
  {
   "cell_type": "code",
   "execution_count": 18,
   "metadata": {},
   "outputs": [
    {
     "name": "stdout",
     "output_type": "stream",
     "text": [
      "(1, 2, 3, [7, 5, 6])\n"
     ]
    }
   ],
   "source": [
    "t = (1, 2, 3, [4, 5, 6])\n",
    "t[3][0] = 7\n",
    "\n",
    "print(t)"
   ]
  },
  {
   "cell_type": "code",
   "execution_count": 50,
   "metadata": {},
   "outputs": [
    {
     "name": "stdout",
     "output_type": "stream",
     "text": [
      "[7, 4, 2, 9, 1, 6]\n",
      "[7, 4, 2, 9, 1, 6, 3]\n",
      "[7, 4, 2, 9, 1, 6, 3]\n",
      "[7, 4, 2, 9, 1, 6, 3]\n",
      "[7, 4, 2, 9, 1, 6]\n"
     ]
    }
   ],
   "source": [
    "X = [3, 6, 1, 9, 2, 4, 7]\n",
    "\n",
    "print(X[:0:-1]) \n",
    "print(X[::-1])\n",
    "print(X[6::-1]) \n",
    "print(X[-1::-1]) \n",
    "print(X[6:0:-1]) \n",
    "\n"
   ]
  },
  {
   "cell_type": "code",
   "execution_count": 28,
   "metadata": {},
   "outputs": [
    {
     "name": "stdout",
     "output_type": "stream",
     "text": [
      "[[1, 2, 3], [4, 5, 6, 7], [8, 9], [[10, 11, 12], [13, 14, 15]]]\n"
     ]
    },
    {
     "data": {
      "text/plain": [
       "13"
      ]
     },
     "execution_count": 28,
     "metadata": {},
     "output_type": "execute_result"
    }
   ],
   "source": [
    "lista_aninhada = [ [1,2,3],[4,5,6,7],[8,9],[ [10,11,12], [13, 14, 15] ] ]\n",
    "print(lista_aninhada)\n",
    "lista_aninhada[3][1][0]\n"
   ]
  },
  {
   "cell_type": "code",
   "execution_count": 33,
   "metadata": {
    "collapsed": true
   },
   "outputs": [
    {
     "name": "stdout",
     "output_type": "stream",
     "text": [
      "([1, 2, 3], (4, 5, 6, 7), [8, 9], ([10, 11, 12], [(13, 14), 15]))\n"
     ]
    },
    {
     "data": {
      "text/plain": [
       "13"
      ]
     },
     "execution_count": 33,
     "metadata": {},
     "output_type": "execute_result"
    }
   ],
   "source": [
    "estrutura_aninhada = ( [1,2,3],(4,5,6,7),[8,9],( [10,11,12], [(13, 14), 15] ) )\n",
    "print(estrutura_aninhada)\n",
    "estrutura_aninhada[3][1][0][0]\n"
   ]
  },
  {
   "cell_type": "code",
   "execution_count": 43,
   "metadata": {
    "collapsed": true
   },
   "outputs": [
    {
     "data": {
      "text/plain": [
       "3"
      ]
     },
     "execution_count": 43,
     "metadata": {},
     "output_type": "execute_result"
    }
   ],
   "source": [
    "tupla_xyz = (1, 2, 3, 4, 5)\n",
    "tupla_xyz[2]"
   ]
  },
  {
   "cell_type": "code",
   "execution_count": null,
   "metadata": {
    "collapsed": true
   },
   "outputs": [],
   "source": [
    "tupla1[6] = -1 # A imutabilidade da tupla não permite a alteração de um valor"
   ]
  },
  {
   "cell_type": "code",
   "execution_count": null,
   "metadata": {
    "collapsed": true
   },
   "outputs": [],
   "source": [
    "lista[6] = -1 # A lista resultante da conversão da lista permite a alteração"
   ]
  },
  {
   "cell_type": "code",
   "execution_count": 56,
   "metadata": {
    "collapsed": true
   },
   "outputs": [
    {
     "name": "stdout",
     "output_type": "stream",
     "text": [
      "{'MG': {'Capital': 'Belo Horizonte', 'Cidades': {1: 'Juiz de Fora', 2: 'Luiz de Fora', 3: 'Sete Lagoas'}}, 'SP': {'Capital': 'São Paulo', 'Cidades': {1: 'Campinas', 2: 'Piracicaba', 3: 'Franca'}}, 'RS': {'Capital': 'Porto Alegre', 'Cidades': {1: 'Pelotas', 2: 'Gramado', 3: 'Canela'}}}\n",
      "{'MG': {'Capital': 'Belo Horizonte', 'Cidades': {1: 'Contagem', 2: 'Juiz de Fora', 3: 'Sete Lagoas'}}, 'SP': {'Capital': 'São Paulo', 'Cidades': {1: 'Campinas', 2: 'Piracicaba', 3: 'Franca'}}, 'RS': {'Capital': 'Porto Alegre', 'Cidades': {1: 'Pelotas', 2: 'Gramado', 3: 'Canela'}}}\n",
      "{'MG': {'Capital': 'Belo Horizonte', 'Cidades': {1: 'Contagem', 2: 'Luiz de Fora', 3: 'Sete Lagoas', 'Luiz de Fora': 'Juiz de Fora'}}, 'SP': {'Capital': 'São Paulo', 'Cidades': {1: 'Campinas', 2: 'Piracicaba', 3: 'Franca'}}, 'RS': {'Capital': 'Porto Alegre', 'Cidades': {1: 'Pelotas', 2: 'Gramado', 3: 'Canela'}}}\n"
     ]
    }
   ],
   "source": [
    "dic = { \"MG\": {\"Capital\": \"Belo Horizonte\", \n",
    "               \"Cidades\": {1:\"Contagem\", \n",
    "                           2:\"Luiz de Fora\", \n",
    "                           3:\"Sete Lagoas\"}\n",
    "              },\n",
    "        \"SP\": {\"Capital\": \"São Paulo\", \n",
    "               \"Cidades\": {1:\"Campinas\", \n",
    "                           2:\"Piracicaba\",\n",
    "                           3:\"Franca\"}\n",
    "              },\n",
    "        \"RS\": {\"Capital\": \"Porto Alegre\", \n",
    "               \"Cidades\": {1:\"Pelotas\", \n",
    "                           2:\"Gramado\", \n",
    "                           3:\"Canela\"}\n",
    "              } \n",
    "      }\n",
    "dic[\"MG\"][\"Cidades\"][1] = \"Juiz de Fora\"\n",
    "print(dic)\n",
    "\n",
    "\n",
    "#dic{\"MG\"}{\"Cidades\"}{1} = \"Juiz de Fora\"\n",
    "\n",
    "dic = { \"MG\": {\"Capital\": \"Belo Horizonte\", \n",
    "               \"Cidades\": {1:\"Contagem\", \n",
    "                           2:\"Luiz de Fora\", \n",
    "                           3:\"Sete Lagoas\"}\n",
    "              },\n",
    "        \"SP\": {\"Capital\": \"São Paulo\", \n",
    "               \"Cidades\": {1:\"Campinas\", \n",
    "                           2:\"Piracicaba\",\n",
    "                           3:\"Franca\"}\n",
    "              },\n",
    "        \"RS\": {\"Capital\": \"Porto Alegre\", \n",
    "               \"Cidades\": {1:\"Pelotas\", \n",
    "                           2:\"Gramado\", \n",
    "                           3:\"Canela\"}\n",
    "              } \n",
    "      }\n",
    "dic[\"MG\"][\"Cidades\"][2] = \"Juiz de Fora\"\n",
    "print(dic)\n",
    "\n",
    "dic = { \"MG\": {\"Capital\": \"Belo Horizonte\", \n",
    "               \"Cidades\": {1:\"Contagem\", \n",
    "                           2:\"Luiz de Fora\", \n",
    "                           3:\"Sete Lagoas\"}\n",
    "              },\n",
    "        \"SP\": {\"Capital\": \"São Paulo\", \n",
    "               \"Cidades\": {1:\"Campinas\", \n",
    "                           2:\"Piracicaba\",\n",
    "                           3:\"Franca\"}\n",
    "              },\n",
    "        \"RS\": {\"Capital\": \"Porto Alegre\", \n",
    "               \"Cidades\": {1:\"Pelotas\", \n",
    "                           2:\"Gramado\", \n",
    "                           3:\"Canela\"}\n",
    "              } \n",
    "      }\n",
    "dic[\"MG\"][\"Cidades\"][\"Luiz de Fora\"] = \"Juiz de Fora\"\n",
    "print(dic)"
   ]
  }
 ],
 "metadata": {
  "kernelspec": {
   "display_name": "Python 3",
   "language": "python",
   "name": "python3"
  },
  "language_info": {
   "codemirror_mode": {
    "name": "ipython",
    "version": 3
   },
   "file_extension": ".py",
   "mimetype": "text/x-python",
   "name": "python",
   "nbconvert_exporter": "python",
   "pygments_lexer": "ipython3",
   "version": "3.9.12"
  }
 },
 "nbformat": 4,
 "nbformat_minor": 2
}
